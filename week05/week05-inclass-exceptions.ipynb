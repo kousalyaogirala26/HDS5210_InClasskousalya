{
  "cells": [
    {
      "cell_type": "code",
      "execution_count": 1,
      "metadata": {
        "id": "egmo5InM2L8O"
      },
      "outputs": [],
      "source": [
        "### Change this function to raise Value Errors for the Invalid respiratory rate, Invalid Pulse OX, and Invalid 02 Flow Rate\n",
        "\n",
        "def qcsi(respiratory_rate, pulse_ox, o2_flow):\n",
        "    \"\"\"(int, int, int) -> str\n",
        "    * respiratory_rate is an integer value\n",
        "    * pulse_ox is an integer value (e.g. 30 means 30%)\n",
        "    * o2_flow is an integer value\n",
        "    \"\"\"\n",
        "\n",
        "    ### BEGIN SOLUTION\n",
        "\n",
        "    resp_score = 0\n",
        "    if respiratory_rate <= 0 :\n",
        "        risk =ValueError(\"invalid respiratory rate\")\n",
        "        #return risk\n",
        "\n",
        "    if respiratory_rate >= 23 and respiratory_rate <=28 :\n",
        "        resp_score = 1\n",
        "    elif respiratory_rate > 28 :\n",
        "        resp_score = 2\n",
        "\n",
        "    pulse_ox_score = 0\n",
        "    if pulse_ox <= 0 or pulse_ox > 100:\n",
        "        risk = \"invalid pulse ox\"\n",
        "        return risk\n",
        "\n",
        "    if (pulse_ox >= 89 and pulse_ox <= 92) :\n",
        "        pulse_ox_score =2\n",
        "    elif (pulse_ox <=88) :\n",
        "        pulse_ox_score = 5\n",
        "\n",
        "    o2_score = 0\n",
        "    if o2_flow <= 0 :\n",
        "      #Value Error\n",
        "        risk = \"invalid O2 flow rate\"\n",
        "        return risk\n",
        "\n",
        "    if (o2_flow == 3 or o2_flow == 4) :\n",
        "        o2_score = 4\n",
        "    elif (o2_flow  == 5 or o2_flow == 6) :\n",
        "        o2_score = 5\n",
        "\n",
        "    score = resp_score + pulse_ox_score + o2_score\n",
        "    if score <= 3 :\n",
        "        risk = \"low\"\n",
        "    elif score >=4 and score <= 6 :\n",
        "        risk = \"low-intermediate\"\n",
        "    elif score >=7 and score <= 9 :\n",
        "        risk = \"high-intermediate\"\n",
        "    elif score >=10 and score <= 12 :\n",
        "        risk = \"high\"\n",
        "\n",
        "    ### END SOLUTION\n",
        "\n",
        "    return risk"
      ]
    },
    {
      "cell_type": "code",
      "execution_count": 2,
      "metadata": {
        "id": "2v-wRNFF2L8R",
        "outputId": "e9c7d4a1-07fe-4469-b1d3-6decb419cfc6",
        "colab": {
          "base_uri": "https://localhost:8080/",
          "height": 36
        }
      },
      "outputs": [
        {
          "output_type": "execute_result",
          "data": {
            "text/plain": [
              "'low-intermediate'"
            ],
            "application/vnd.google.colaboratory.intrinsic+json": {
              "type": "string"
            }
          },
          "metadata": {},
          "execution_count": 2
        }
      ],
      "source": [
        "qcsi(2, 3, 99)"
      ]
    },
    {
      "cell_type": "code",
      "execution_count": 3,
      "metadata": {
        "id": "eS5nNdgH2L8S",
        "outputId": "7f14d102-8d8a-4d80-8f22-c66df0b24174",
        "colab": {
          "base_uri": "https://localhost:8080/",
          "height": 36
        }
      },
      "outputs": [
        {
          "output_type": "execute_result",
          "data": {
            "text/plain": [
              "'low'"
            ],
            "application/vnd.google.colaboratory.intrinsic+json": {
              "type": "string"
            }
          },
          "metadata": {},
          "execution_count": 3
        }
      ],
      "source": [
        "qcsi(24, 99, 99)"
      ]
    },
    {
      "cell_type": "code",
      "execution_count": 4,
      "metadata": {
        "id": "trwb910r2L8S",
        "outputId": "a4ec535f-6a98-4f7c-81d8-9aad101e30e6",
        "colab": {
          "base_uri": "https://localhost:8080/",
          "height": 36
        }
      },
      "outputs": [
        {
          "output_type": "execute_result",
          "data": {
            "text/plain": [
              "'low-intermediate'"
            ],
            "application/vnd.google.colaboratory.intrinsic+json": {
              "type": "string"
            }
          },
          "metadata": {},
          "execution_count": 4
        }
      ],
      "source": [
        "qcsi(24, 2, 1000)"
      ]
    }
  ],
  "metadata": {
    "language_info": {
      "name": "python"
    },
    "colab": {
      "provenance": []
    },
    "kernelspec": {
      "name": "python3",
      "display_name": "Python 3"
    }
  },
  "nbformat": 4,
  "nbformat_minor": 0
}