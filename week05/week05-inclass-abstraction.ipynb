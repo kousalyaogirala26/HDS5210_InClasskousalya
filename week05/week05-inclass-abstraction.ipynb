{
  "cells": [
    {
      "cell_type": "code",
      "execution_count": 9,
      "metadata": {
        "id": "MI2MwLd3t7iC"
      },
      "outputs": [],
      "source": [
        "import doctest\n",
        "from datetime import date\n",
        "my_encounters = {\n",
        "    \"E1234\": { \"admit\": date(2019,1,3), \"diagnosis\": \"COPD\", \"discharge\": date(2019,1,8) },\n",
        "    \"E8342\": { \"admit\": date(2019,1,5), \"diagnosis\": \"Hypertension\", \"discharge\": date(2019,1,9) },\n",
        "    \"E9231\": { \"admit\": date(2019,1,12), \"diagnosis\": \"Anxiety\", \"discharge\": date(2019,1,13) },\n",
        "    \"E8333\": { \"admit\": date(2019,1,15), \"diagnosis\": \"Observation\", \"discharge\": date(2019,1,16) },\n",
        "    \"E3342\": { \"admit\": date(2019,1,4), \"diagnosis\": \"Anxiety\", \"discharge\": date(2019,1,4)}\n",
        "}\n",
        "\n",
        "def los(admit, discharge) :\n",
        "    \"\"\"(date, date) -> int\n",
        "    Returns length of stay based on standard rules\n",
        "\n",
        "    >>> los(date(2019,1,3), date(2019,1,8),\"Things\")\n",
        "    5\n",
        "    >>> los(date(2019,1,5), date(2019,1,9),\"Observation\")\n",
        "    0\n",
        "    \"\"\"\n",
        "    return (discharge - admit).days\n",
        "\n",
        "def average_los(encounters) :\n",
        "    \"\"\"(dict) -> float\n",
        "    Compute the average length of stay over all visits\n",
        "\n",
        "    >>> average_los({\"E8342\": { \"admit\": date(2019,1,5), \"diagnosis\": \"Hypertension\", \"discharge\": date(2019,1,10) },\"E8333\": { \"admit\": date(2019,1,15), \"diagnosis\": \"Observation\", \"discharge\": date(2019,1,16) },\"E3342\": { \"admit\": date(2019,1,4), \"diagnosis\": \"Anxiety\", \"discharge\": date(2019,1,4)}})\n",
        "    2.0\n",
        "    \"\"\"\n",
        "    total_los =0\n",
        "    ## THIS DOES'NT WORK NOW...Needs more logic\n",
        "\n",
        "    total_encounters = len(encounters)\n",
        "\n",
        "\n",
        "    if total_encounters == 0 :\n",
        "        return 0\n",
        "\n",
        "    for encounter in encounters.values() :\n",
        "        los_value = los(encounter[\"admit\"], encounter[\"discharge\"], encounter[\"diagnosis\"])\n",
        "        if los_value == 0 :\n",
        "          #total_encounter = total_encounters - 1\n",
        "          total_encounters -= 1\n",
        "\n",
        "\n",
        "          ### ALTERNATELY WE COULLD HAVE SET TOTAL_ENCOUNTERS = 0 before the loop and incremented for value > 0\n",
        "          total_los += los_value\n",
        "\n",
        "        ###  WILL NEED TO FIX DOC TEST VALUES\n",
        "\n",
        "    return total_los/total_encounters\n"
      ]
    },
    {
      "cell_type": "code",
      "execution_count": null,
      "metadata": {
        "id": "SwG3mliGt7iE",
        "outputId": "5a8c19bf-4123-4680-c32d-4510a47f5d0c"
      },
      "outputs": [
        {
          "name": "stdout",
          "output_type": "stream",
          "text": [
            "Finding tests in NoName\n",
            "Trying:\n",
            "    los(date(2019,1,3), date(2019,1,8))\n",
            "Expecting:\n",
            "    5\n",
            "ok\n",
            "Finding tests in NoName\n",
            "Trying:\n",
            "    average_los({\"E8342\": { \"admit\": date(2019,1,5), \"diagnosis\": \"Hypertension\", \"discharge\": date(2019,1,10) },\"E8333\": { \"admit\": date(2019,1,15), \"diagnosis\": \"Observation\", \"discharge\": date(2019,1,16) },\"E3342\": { \"admit\": date(2019,1,4), \"diagnosis\": \"Anxiety\", \"discharge\": date(2019,1,4)}})\n",
            "Expecting:\n",
            "    2.0\n",
            "ok\n"
          ]
        }
      ],
      "source": [
        "doctest.run_docstring_examples(los, globals(), verbose=True)\n",
        "doctest.run_docstring_examples(average_los, globals(), verbose=True)"
      ]
    },
    {
      "cell_type": "markdown",
      "metadata": {
        "id": "NNAMkBLit7iG"
      },
      "source": [
        "### Abstraction\n",
        "\n",
        "Your supervisor has asked you to implement a new rule that patients with a diagnosis of observation should have a LOS of 0.\n",
        "Patients with a LOS of 0 should not be counted towards the average LOS.\n",
        "\n",
        "Change the code above to implement these rules"
      ]
    }
  ],
  "metadata": {
    "kernelspec": {
      "display_name": "Python 3",
      "language": "python",
      "name": "python3"
    },
    "language_info": {
      "codemirror_mode": {
        "name": "ipython",
        "version": 3
      },
      "file_extension": ".py",
      "mimetype": "text/x-python",
      "name": "python",
      "nbconvert_exporter": "python",
      "pygments_lexer": "ipython3",
      "version": "3.10.11"
    },
    "colab": {
      "provenance": []
    }
  },
  "nbformat": 4,
  "nbformat_minor": 0
}