{
  "cells": [
    {
      "cell_type": "markdown",
      "metadata": {
        "id": "view-in-github",
        "colab_type": "text"
      },
      "source": [
        "<a href=\"https://colab.research.google.com/github/kousalyaogirala26/HDS5210_InClasskousalya/blob/master/week11/week11_assignment.ipynb\" target=\"_parent\"><img src=\"https://colab.research.google.com/assets/colab-badge.svg\" alt=\"Open In Colab\"/></a>"
      ]
    },
    {
      "cell_type": "markdown",
      "metadata": {
        "id": "W0uvN5797JfU"
      },
      "source": [
        "# Week 11 Assignment\n",
        "\n",
        "\n",
        "Please do the programming exercise and verify that your code works using the tests, then think about your final project and fill out the questions in the second part.\n",
        "\n",
        "---\n",
        "---"
      ]
    },
    {
      "cell_type": "markdown",
      "metadata": {
        "id": "viiszw5w7JfW"
      },
      "source": [
        "### 47.1: Filtering and summarizing data\n",
        "\n",
        "For this work, you'll find a data file in `/data/complications_all.csv`.\n",
        "\n",
        "Read in the data file and create a variable called `mo_hospitals` that contains a data frame from the `complications_all.csv` file, filtered down to only contain those hospitals from the state of Missouri (MO).\n",
        "\n",
        "Then aggregate that data by hospital into a variable named `mo_summary`.  There are some key fields that we want to summarize:\n",
        "* We want to know the earliest date that each hospital was participating in any program\n",
        "* We want to know the latest date that each hospital stopped participating in any program\n",
        "* We want to know the total number of patients in the denominators of these programs\n",
        "\n",
        "Some things to note:\n",
        "* You will need to convert the `Start Date` and `End Date` to actual datetime fields\n",
        "* You will need to clean up and convert the `Denominator` field to just be numeric - the rule that you should use it to simply remove any records where the `Denominator` is `'Not Available'`\n",
        "\n",
        "\n",
        "The final result of this step should be a new data frame called `mo_summary` that contains one row for each hospital and contains the min start date, max end date, and total denominator.  Use the names `start_date`, `end_date`, and `number` for those columns in `mo_summary`.\n",
        "\n",
        "\n",
        "You do not need to create your code in the form of a function, just make sure your variable names match what I've described above so the tests work."
      ]
    },
    {
      "cell_type": "code",
      "execution_count": 5,
      "metadata": {
        "id": "QT4PHbFe7JfX"
      },
      "outputs": [],
      "source": [
        "import pandas as pd\n",
        "# This is just to show you the name to use for the variable you need to create for this step to pass.\n",
        "all_hospitals = pd.read_csv('https://hds5210-data.s3.amazonaws.com/complications_all.csv')\n"
      ]
    },
    {
      "cell_type": "code",
      "source": [
        "# Do you work here and in as many cells as you need to create a variable called `mo_summary` that matches the requirements\n",
        "import pandas as pd\n",
        "\n",
        "# Load the data\n",
        "file_path = '/content/complications_all.csv'\n",
        "data = pd.read_csv(file_path)\n",
        "\n",
        "# Filter to only contain hospitals from Missouri (MO)\n",
        "mo_hospitals = data[data['State'] == 'MO']\n",
        "\n",
        "# Convert 'Start Date' and 'End Date' to datetime fields\n",
        "mo_hospitals['Start Date'] = pd.to_datetime(mo_hospitals['Start Date'], errors='coerce')\n",
        "mo_hospitals['End Date'] = pd.to_datetime(mo_hospitals['End Date'], errors='coerce')\n",
        "\n",
        "# Remove records where 'Denominator' is 'Not Available' and convert it to numeric\n",
        "mo_hospitals = mo_hospitals[mo_hospitals['Denominator'] != 'Not Available']\n",
        "mo_hospitals['Denominator'] = pd.to_numeric(mo_hospitals['Denominator'], errors='coerce')\n",
        "\n",
        "# Aggregate the data to ensure the shape (108, 3) and set 'Facility Name' as the index\n",
        "mo_summary = mo_hospitals.groupby('Facility Name').agg(\n",
        "    start_date=('Start Date', 'min'),\n",
        "    end_date=('End Date', 'max'),\n",
        "    number=('Denominator', 'sum')\n",
        ").reset_index().set_index('Facility Name')[['start_date', 'end_date', 'number']]\n",
        "\n",
        "# Display the result\n",
        "print(mo_summary)"
      ],
      "metadata": {
        "id": "henzAYc_7lyc",
        "outputId": "9e2e0d8e-cc65-4452-c732-29acf6222ea5",
        "colab": {
          "base_uri": "https://localhost:8080/"
        }
      },
      "execution_count": 6,
      "outputs": [
        {
          "output_type": "stream",
          "name": "stdout",
          "text": [
            "                                    start_date   end_date  number\n",
            "Facility Name                                                    \n",
            "BARNES JEWISH HOSPITAL              2015-04-01 2018-06-30  131313\n",
            "BARNES-JEWISH ST PETERS HOSPITAL    2015-04-01 2018-06-30   15668\n",
            "BARNES-JEWISH WEST COUNTY HOSPITAL  2015-04-01 2018-06-30    9622\n",
            "BATES COUNTY MEMORIAL HOSPITAL      2015-07-01 2018-06-30    3117\n",
            "BELTON REGIONAL MEDICAL CENTER      2015-04-01 2018-06-30    9270\n",
            "...                                        ...        ...     ...\n",
            "TRUMAN MEDICAL CENTER LAKEWOOD      2015-04-01 2018-06-30    4297\n",
            "UNIVERSITY OF MISSOURI HEALTH CARE  2015-04-01 2018-06-30   56493\n",
            "WASHINGTON COUNTY MEMORIAL HOSPITAL 2015-07-01 2018-06-30     220\n",
            "WESTERN MISSOURI MEDICAL CENTER     2015-04-01 2018-06-30    7254\n",
            "WRIGHT MEMORIAL HOSPITAL            2015-07-01 2018-06-30     198\n",
            "\n",
            "[108 rows x 3 columns]\n"
          ]
        },
        {
          "output_type": "stream",
          "name": "stderr",
          "text": [
            "<ipython-input-6-c35b4144a5dc>:12: SettingWithCopyWarning: \n",
            "A value is trying to be set on a copy of a slice from a DataFrame.\n",
            "Try using .loc[row_indexer,col_indexer] = value instead\n",
            "\n",
            "See the caveats in the documentation: https://pandas.pydata.org/pandas-docs/stable/user_guide/indexing.html#returning-a-view-versus-a-copy\n",
            "  mo_hospitals['Start Date'] = pd.to_datetime(mo_hospitals['Start Date'], errors='coerce')\n",
            "<ipython-input-6-c35b4144a5dc>:13: SettingWithCopyWarning: \n",
            "A value is trying to be set on a copy of a slice from a DataFrame.\n",
            "Try using .loc[row_indexer,col_indexer] = value instead\n",
            "\n",
            "See the caveats in the documentation: https://pandas.pydata.org/pandas-docs/stable/user_guide/indexing.html#returning-a-view-versus-a-copy\n",
            "  mo_hospitals['End Date'] = pd.to_datetime(mo_hospitals['End Date'], errors='coerce')\n"
          ]
        }
      ]
    },
    {
      "cell_type": "code",
      "execution_count": 8,
      "metadata": {
        "id": "g0keNmEF7JfY"
      },
      "outputs": [],
      "source": [
        "# Do you work here and in as many cells as you need to create a variable called `mo_summary` that matches the requirements"
      ]
    },
    {
      "cell_type": "code",
      "execution_count": 7,
      "metadata": {
        "id": "0nU9ZpKs7JfY"
      },
      "outputs": [],
      "source": [
        "assert(mo_summary['number'].sum() == 1766908)\n",
        "assert(mo_summary['start_date'].min() == pd.Timestamp(2015,4,1))\n",
        "assert(mo_summary['end_date'].max() == pd.Timestamp(2018,6,30))\n",
        "assert(mo_summary.shape == (108,3))\n",
        "assert(mo_summary.loc['BARNES JEWISH HOSPITAL'].number == 131313)\n",
        "assert(mo_summary.loc['BOONE HOSPITAL CENTER'].number == 63099)"
      ]
    },
    {
      "cell_type": "markdown",
      "metadata": {
        "id": "_d2vMlPI7JfY"
      },
      "source": [
        "---\n",
        "\n",
        "### 47.2 Planning your final project\n",
        "\n",
        "You should be thinking about the things we've been learning and how you can apply them to your final project.  Use the rubric to help guid your thinking and then answer the questions below.  This is meant as a guide to help you think through what you will do."
      ]
    },
    {
      "cell_type": "markdown",
      "metadata": {
        "id": "-4N8kpfy7JfY"
      },
      "source": [
        "#### A) Data Access\n",
        "\n",
        "Your project should include data from at least three distinct types of sources.  For example: AWS S3, Relational Databases, Internet, Web Services, local files.  List what data sources you're planning to use."
      ]
    },
    {
      "cell_type": "markdown",
      "metadata": {
        "id": "ue27y1mB7JfY"
      },
      "source": [
        "**Double-click to enter your answer**\n",
        "\n",
        "Put your answer here\n",
        "\n",
        "For my project, I plan to use data from the following three distinct types of sources:\n",
        "\n",
        "I would like to do my final project on Integrative Health data platform\n",
        "\n",
        "AWS S3:\n",
        "\n",
        "This is used to store and access the large datasets and (especially those that need cloud storage and cloud processing).\n",
        "\n",
        "https://aws.amazon.com/pm/serv-s3/?gclid=Cj0KCQiAlsy5BhDeARIsABRc6ZupIVzfX2CxTZ9g8pFDcyNNVmaA4tZOxZ2d6YQmAM-NU5sdzZj0E3caAoJlEALw_wcB&trk=fbe47fa9-e137-4446-962c-d803db3dd675&sc_channel=ps&ef_id=Cj0KCQiAlsy5BhDeARIsABRc6ZupIVzfX2CxTZ9g8pFDcyNNVmaA4tZOxZ2d6YQmAM-NU5sdzZj0E3caAoJlEALw_wcB:G:s&s_kwcid=AL!4422!3!651751061202!e!!g!!s3%20web%20hosting!19852662374!145019213257\n",
        "\n",
        "Relational Databases\n",
        "\n",
        "(Example: PostgreSQL or MySQL): For storing structured, transactional data in a relational database it is ideal for managing core records and SQL queries.\n",
        "\n",
        "Internet source website link:\n",
        "https://www.altexsoft.com/blog/comparing-database-management-systems-mysql-postgresql-mssql-server-mongodb-elasticsearch-and-others/\n",
        "\n",
        "Internet:\n",
        "Many governments, organizations, and institutions publish datasets online. Websites\n",
        "Internet source website link:\n",
        "https://catalog.data.gov/dataset/?res_format=CSV\n"
      ]
    },
    {
      "cell_type": "markdown",
      "metadata": {
        "id": "P0bHENOT7JfZ"
      },
      "source": [
        "#### B. Data Formats\n",
        "\n",
        "Your project should include data that comes in different file formats.  For example: HL7, EDI, HTML, CSV, Excel, JSON, XML.  List what data formats you're planning to use."
      ]
    },
    {
      "cell_type": "markdown",
      "metadata": {
        "id": "CeDvgQi67JfZ"
      },
      "source": [
        "**Double-click to enter your answer**\n",
        "\n",
        "Put your answer here\n",
        "For my project , I plan to utilize the following data formats such as:\n",
        "\n",
        "CSV:\n",
        "\n",
        "This format is great as it can process, and even handle, structured and tabular data.\n",
        "\n",
        "for this CSV i have uploaded the example file in my github repository.\n",
        "\n",
        "JSON:\n",
        "\n",
        "It is Useful for handling nested data from APIs or web services.\n",
        "\n",
        "link for the json file data:\n",
        "https://data.cityofchicago.org/api/views/7ce8-bpr6/rows.json?accessType=DOWNLOAD\n",
        "\n",
        "These above formats would support robust and real-time handling of data that improves flexibility of project\n"
      ]
    },
    {
      "cell_type": "markdown",
      "metadata": {
        "id": "lIHtD14r7JfZ"
      },
      "source": [
        "#### C. Objective\n",
        "\n",
        "What purpose would your project serve in a real work setting?  Take a couple of paragraphs to write down why this is an interesting product."
      ]
    },
    {
      "cell_type": "markdown",
      "metadata": {
        "id": "A5L3-I_Y7JfZ"
      },
      "source": [
        "**Double-click to enter your answer**\n",
        "\n",
        "Put your answer here\n",
        "\n",
        "The Integrative Health Data Platform serves a critical role in healthcare settings by providing a unified, accessible source of patient and health-related data. By integrating data from sources like AWS S3, relational databases, and web services, this platform can offer a comprehensive view of patient health metrics, treatment history, and relevant health trends. In practice, health professionals and researchers can use this system to analyze complex data from multiple sources in real time, leading to better-informed clinical decisions and more personalized patient care. For example, insights gathered from integrated datasets can help clinicians identify patterns that may indicate disease progression or treatment response, facilitating more proactive care.\n",
        "\n",
        "This project also addresses significant data challenges in the health sector, such as data fragmentation, accessibility, and interoperability. By centralizing diverse data types within a single platform, it becomes easier to enforce standardized data formats, improve data quality, and enable collaboration among healthcare providers.\n"
      ]
    },
    {
      "cell_type": "markdown",
      "metadata": {
        "id": "wq8tm8187JfZ"
      },
      "source": [
        "\n",
        "\n",
        "---\n",
        "\n",
        "\n",
        "\n",
        "## Submit your work via GitHub as normal\n"
      ]
    }
  ],
  "metadata": {
    "kernelspec": {
      "display_name": "Python 3",
      "language": "python",
      "name": "python3"
    },
    "language_info": {
      "codemirror_mode": {
        "name": "ipython",
        "version": 3
      },
      "file_extension": ".py",
      "mimetype": "text/x-python",
      "name": "python",
      "nbconvert_exporter": "python",
      "pygments_lexer": "ipython3",
      "version": "3.9.16"
    },
    "colab": {
      "provenance": [],
      "include_colab_link": true
    }
  },
  "nbformat": 4,
  "nbformat_minor": 0
}
