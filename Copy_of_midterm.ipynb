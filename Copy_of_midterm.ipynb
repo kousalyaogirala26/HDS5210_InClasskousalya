{
  "cells": [
    {
      "cell_type": "markdown",
      "metadata": {
        "id": "view-in-github",
        "colab_type": "text"
      },
      "source": [
        "<a href=\"https://colab.research.google.com/github/kousalyaogirala26/HDS5210_InClasskousalya/blob/master/Copy_of_midterm.ipynb\" target=\"_parent\"><img src=\"https://colab.research.google.com/assets/colab-badge.svg\" alt=\"Open In Colab\"/></a>"
      ]
    },
    {
      "cell_type": "markdown",
      "metadata": {
        "id": "7cYznTOS3_5P"
      },
      "source": [
        "### Mid-term for HDS5210\n",
        "\n",
        "Your supervisor is concerned about 4-year survival risks for COPD. She has asked for you to do some analysis using a new metric, BODE. BODE is an improvement on a previous metric and promises to provide insight on survival risks.\n",
        "\n",
        "BODE is defined here. https://www.mdcalc.com/calc/3916/bode-index-copd-survival#evidence\n",
        "\n",
        "Your assignment is to create a BODE calculation, use it to calculate BODE scores and BODE survival rates for a group of patients. Then we want to evaluate the average BODE scores and BODE survival rates for each area hospital.\n",
        "\n",
        "Your patient input file will have the following columns:\n",
        "NAME,SSN,LANGUAGE,JOB,HEIGHT_M,WEIGHT_KG,fev_pct,dyspnea_description,distance_in_meters,hospital\n",
        "\n",
        "BODE calculations require a BMI value, so you will have to create a function for it.\n",
        "\n",
        "Your output should be in the form of two CSV files, patient_output.csv and hospital_output.csv.\n",
        "\n",
        "Patient_output will have the following columns:\n",
        "NAME,BODE_SCORE,BODE_RISK,HOSPITAL\n",
        "\n",
        "Hospital output will have the following columns:\n",
        "HOSPITAL_NAME, COPD_COUNT, PCT_OF_COPD_CASES_OVER_BEDS, AVG_SCORE, AVG_RISK\n",
        "\n",
        "Each function you create should have documentation and a suitable number of test cases. If the input data could be wrong, make sure to raise a Value Error.\n",
        "\n",
        "For this assignment, use the doctest, json, and csv libraries. Pandas is not allowed for this assignment."
      ]
    },
    {
      "cell_type": "code",
      "execution_count": 2,
      "metadata": {
        "id": "lZFSAN9q3_5R"
      },
      "outputs": [],
      "source": [
        "import doctest\n",
        "import json\n",
        "import csv"
      ]
    },
    {
      "cell_type": "markdown",
      "metadata": {
        "id": "UKDn4v-I3_5S"
      },
      "source": [
        "### Step 1: Calculate BMI"
      ]
    },
    {
      "cell_type": "code",
      "execution_count": 3,
      "metadata": {
        "id": "f2kbc_4x3_5T"
      },
      "outputs": [],
      "source": [
        "def calculate_bmi(weight_kg, height_m):\n",
        "    \"\"\"\n",
        "    Calculate BMI (Body Mass Index) based on weight in kg and height in meters.\n",
        "\n",
        "    Args:\n",
        "    weight_kg (float): Weight of the patient in kilograms\n",
        "    height_m (float): Height of the patient in meters\n",
        "\n",
        "    Returns:\n",
        "    float: Calculated BMI value\n",
        "\n",
        "    Raises:\n",
        "    ValueError: If weight_kg or height_m is non-positive.\n",
        "\n",
        "    >>> calculate_bmi(70, 1.75)\n",
        "    22.86\n",
        "    >>> calculate_bmi(90, 1.80)\n",
        "    27.78\n",
        "    \"\"\"\n",
        "    if weight_kg <= 0 or height_m <= 0:\n",
        "        raise ValueError(\"Weight and height must be positive values.\")\n",
        "\n",
        "    bmi = round(weight_kg / (height_m ** 2), 2)\n",
        "    return bmi\n"
      ]
    },
    {
      "cell_type": "code",
      "source": [
        "if __name__ == \"__main__\":\n",
        "    import doctest\n",
        "    doctest.testmod()"
      ],
      "metadata": {
        "colab": {
          "base_uri": "https://localhost:8080/"
        },
        "id": "3hDIdzHiN0yD",
        "outputId": "77444f50-a099-4425-fd9a-ea7044632f1a"
      },
      "execution_count": 8,
      "outputs": [
        {
          "output_type": "stream",
          "name": "stderr",
          "text": [
            "\n",
            "PYDEV DEBUGGER WARNING:\n",
            "sys.settrace() should not be used when the debugger is being used.\n",
            "This may cause the debugger to stop working correctly.\n",
            "If this is needed, please check: \n",
            "http://pydev.blogspot.com/2007/06/why-cant-pydev-debugger-work-with.html\n",
            "to see how to restore the debug tracing back correctly.\n",
            "Call Location:\n",
            "  File \"/usr/lib/python3.10/doctest.py\", line 1501, in run\n",
            "    sys.settrace(save_trace)\n",
            "\n"
          ]
        }
      ]
    },
    {
      "cell_type": "markdown",
      "metadata": {
        "id": "JrdEQQ1l3_5T"
      },
      "source": [
        "### Step 2: Calculate BODE Score"
      ]
    },
    {
      "cell_type": "code",
      "execution_count": null,
      "metadata": {
        "id": "tku_MmgU3_5T"
      },
      "outputs": [],
      "source": [
        "def normalize_dyspnea_description(description):\n",
        "    \"\"\"\n",
        "    Normalize the description of dyspnea to standardized breathlessness categories.\n",
        "\n",
        "    >>> normalize_dyspnea_description(\"STOPS AFTER A FEW MINUTES\")\n",
        "    'Severe breathlessness'\n",
        "\n",
        "    >>> normalize_dyspnea_description(\"WHEN HURRYING\")\n",
        "    'Moderate breathlessness'\n",
        "    \"\"\"\n",
        "    # Convert the input description to uppercase and remove leading/trailing spaces\n",
        "    description = description.upper().strip()\n",
        "\n",
        "    # Map specific descriptions to standardized categories\n",
        "    if \"STOPS AFTER A FEW MINUTES\" in description:\n",
        "        return \"Severe breathlessness\"\n",
        "    elif \"WHEN HURRYING\" in description:\n",
        "        return \"Moderate breathlessness\"\n",
        "    elif \"UNABLE TO LEAVE HOME\" in description:\n",
        "        return \"Severe breathlessness\"\n",
        "    elif \"SLOWER THAN PEERS\" in description:\n",
        "        return \"Moderate breathlessness\"\n",
        "    elif \"WALKING UPHILL\" in description:\n",
        "        return \"Moderate breathlessness\"\n",
        "    elif \"ONLY STRENUOUS EXERCISE\" in description:\n",
        "        return \"Mild breathlessness\"\n",
        "    elif \"BREATHLESS WHEN DRESSING\" in description:\n",
        "        return \"Severe breathlessness\"\n",
        "    elif \"STOPS WHEN WALKING AT PACE\" in description:\n",
        "        return \"Severe breathlessness\"\n",
        "    elif \"STOPS AFTER 100 YARDS\" in description:\n",
        "        return \"Severe breathlessness\"\n",
        "\n",
        "    # If no match, return the original description\n",
        "    return description\n",
        "\n",
        "\n",
        "def calculate_bode_score(bmi, fev_pct, dyspnea_description, distance_in_meters):\n",
        "    \"\"\"\n",
        "    Compute the BODE score using BMI, FEV1 percentage, dyspnea description, and walking distance.\n",
        "\n",
        "    >>> calculate_bode_score(22, 70, 'ONLY STRENUOUS EXERCISE', 400)\n",
        "    1\n",
        "    >>> calculate_bode_score(18, 40, 'STOPS WHEN WALKING AT PACE', 200)\n",
        "    8\n",
        "    \"\"\"\n",
        "    bode_score = 0\n",
        "\n",
        "    # Add to BODE score based on BMI\n",
        "    if bmi > 21:\n",
        "        bode_score += 0\n",
        "    else:\n",
        "        bode_score += 1\n",
        "\n",
        "    # Add to BODE score based on FEV1 percentage\n",
        "    if fev_pct >= 65:\n",
        "        bode_score += 0\n",
        "    elif 50 <= fev_pct < 65:\n",
        "        bode_score += 1\n",
        "    elif 36 <= fev_pct < 50:\n",
        "        bode_score += 2\n",
        "    else:\n",
        "        bode_score += 3\n",
        "\n",
        "    # Normalize the dyspnea description and map to a score\n",
        "    dyspnea_description = normalize_dyspnea_description(dyspnea_description)\n",
        "    dyspnea_mapping = {\n",
        "        \"No breathlessness\": 0,\n",
        "        \"Mild breathlessness\": 1,\n",
        "        \"Moderate breathlessness\": 2,\n",
        "        \"Severe breathlessness\": 3,\n",
        "    }\n",
        "\n",
        "    # Get dyspnea score from the mapping\n",
        "    dyspnea_score = dyspnea_mapping.get(dyspnea_description)\n",
        "    if dyspnea_score is None:\n",
        "        raise ValueError(f\"Invalid dyspnea description: {dyspnea_description}\")\n",
        "\n",
        "    bode_score += dyspnea_score\n",
        "\n",
        "    # Add to BODE score based on distance walked\n",
        "    if distance_in_meters > 350:\n",
        "        bode_score += 0\n",
        "    elif 250 <= distance_in_meters <= 350:\n",
        "        bode_score += 1\n",
        "    elif 150 <= distance_in_meters < 250:\n",
        "        bode_score += 2\n",
        "    else:\n",
        "        bode_score += 3\n",
        "\n",
        "    return bode_score\n"
      ]
    },
    {
      "cell_type": "code",
      "source": [
        "if __name__ == \"__main__\":\n",
        "    import doctest\n",
        "    doctest.testmod()"
      ],
      "metadata": {
        "id": "4SPyiOV-OdPj"
      },
      "execution_count": 10,
      "outputs": []
    },
    {
      "cell_type": "markdown",
      "metadata": {
        "id": "i8_qJ0Ep3_5T"
      },
      "source": [
        "### Step 3: Calculate BODE Risk"
      ]
    },
    {
      "cell_type": "code",
      "execution_count": null,
      "metadata": {
        "id": "Bl0kPIqt3_5T"
      },
      "outputs": [],
      "source": [
        "def calculate_bode_risk(bode_score):\n",
        "    \"\"\"\n",
        "    Determine the risk category based on the given BODE score.\n",
        "\n",
        "    Parameters:\n",
        "    bode_score (int): The calculated BODE score.\n",
        "\n",
        "    Returns:\n",
        "    str: The corresponding BODE risk category.\n",
        "    \"\"\"\n",
        "    if bode_score <= 2:\n",
        "        return \"Low Risk\"\n",
        "    elif 3 <= bode_score <= 5:\n",
        "        return \"Moderate Risk\"\n",
        "    else:\n",
        "        return \"High Risk\"\n",
        "\n"
      ]
    },
    {
      "cell_type": "code",
      "source": [
        "if __name__ == \"__main__\":\n",
        "    import doctest\n",
        "    doctest.testmod()"
      ],
      "metadata": {
        "id": "28OSKj_IOyLc"
      },
      "execution_count": 17,
      "outputs": []
    },
    {
      "cell_type": "markdown",
      "metadata": {
        "id": "NO5hz_Ez3_5T"
      },
      "source": [
        "### Step 4: Load Hospital Data"
      ]
    },
    {
      "cell_type": "code",
      "execution_count": 12,
      "metadata": {
        "id": "4MSBoeRd3_5U",
        "outputId": "e8fbf7d1-2f64-4334-d18b-9cb8c81e6808",
        "colab": {
          "base_uri": "https://localhost:8080/"
        }
      },
      "outputs": [
        {
          "output_type": "stream",
          "name": "stdout",
          "text": [
            "Different types of dyspnea descriptions in the dataset:\n",
            "SLOWER THAN PEERS\n",
            "STOPS AFTER 100 YARDS\n",
            "WALKING UPHILL\n",
            "BREATHLESS WHEN DRESSING\n",
            "STOPS AFTER A FEW MINUTES\n",
            "STOPS WHEN WALKING AT PACE\n",
            "UNABLE TO LEAVE HOME\n",
            "WHEN HURRYING\n",
            "ONLY STRENUOUS EXERCISE\n"
          ]
        }
      ],
      "source": [
        "def load_hospital_data(json_file):\n",
        "    \"\"\"\n",
        "    Load hospital data from a JSON file.\n",
        "    \"\"\"\n",
        "    with open(json_file, 'r') as file:\n",
        "        return json.load(file)\n",
        "dyspnea_descriptions = set()\n",
        "\n",
        "with open('patient.csv', 'r') as csvfile:\n",
        "    reader = csv.DictReader(csvfile)\n",
        "    for row in reader:\n",
        "        dyspnea_descriptions.add(row['dyspnea_description'])\n",
        "\n",
        "# Print the different types of dyspnea descriptions\n",
        "print(\"Different types of dyspnea descriptions in the dataset:\")\n",
        "for description in dyspnea_descriptions:\n",
        "    print(description)\n",
        "\n"
      ]
    },
    {
      "cell_type": "code",
      "source": [
        "if __name__ == \"__main__\":\n",
        "    import doctest\n",
        "    doctest.testmod()"
      ],
      "metadata": {
        "id": "XimBypOYO5Fg"
      },
      "execution_count": 16,
      "outputs": []
    },
    {
      "cell_type": "markdown",
      "metadata": {
        "id": "s4OsHRSF3_5U"
      },
      "source": [
        "### Step 5: Main business logic\n",
        "\n",
        "Call BODE Score, BODE Risk functions for each patient.\n",
        "\n",
        "For each hospital, calculate Avg BODE score and Avg BODE risk and count the number of cases for each hospital."
      ]
    },
    {
      "cell_type": "code",
      "execution_count": null,
      "metadata": {
        "id": "ILJuHdxb3_5U"
      },
      "outputs": [],
      "source": [
        "patient_csv = \"patient.csv\"\n",
        "hospital_json = \"hospitals.json\"\n",
        "\n",
        "patient_output_file = \"patient_output.csv\"\n",
        "hospital_output_file = \"hospital_output.csv\"\n",
        "\n",
        "###\n",
        "# Your logic here\n",
        "\n",
        "# Load hospital data\n",
        "hospital_data = load_hospital_data(hospital_json)\n",
        "\n",
        "# Initialize the hospital metrics dictionary using the hospital names from the JSON data\n",
        "hospital_metrics = {}\n",
        "\n",
        "for entry in hospital_data:\n",
        "    # Iterate over the hospitals list within the entry\n",
        "    for hospital in entry['hospitals']:\n",
        "        hospital_metrics[hospital['name']] = {\n",
        "            'total_bode_score': 0,\n",
        "            'total_risk': 0,\n",
        "            'copd_count': 0,\n",
        "            'beds': hospital['beds']\n",
        "        }\n",
        "\n",
        "patient_results = []\n",
        "# Read patient data from the CSV file\n",
        "with open(patient_csv, 'r') as csvfile:\n",
        "    reader = csv.DictReader(csvfile)\n",
        "\n",
        "    for row in reader:\n",
        "        name = row['NAME']\n",
        "        ssn = row['SSN']\n",
        "        language = row['LANGUAGE']\n",
        "        job = row['JOB']\n",
        "        height_m = float(row['HEIGHT_M'])\n",
        "        weight_kg = float(row['WEIGHT_KG'])\n",
        "        fev_pct = float(row['fev_pct'])\n",
        "        dyspnea_description = row['dyspnea_description']\n",
        "        distance_in_meters = float(row['distance_in_meters'])\n",
        "        hospital_name = row['hospital']\n",
        "\n",
        "        # Calculate BMI, BODE score, and BODE risk\n",
        "        bmi = calculate_bmi(weight_kg, height_m)\n",
        "        bode_score = calculate_bode_score(bmi, fev_pct, dyspnea_description, distance_in_meters)\n",
        "        bode_risk = calculate_bode_risk(bode_score)\n",
        "\n",
        "        # Add patient results\n",
        "        patient_results.append([name, bode_score, bode_risk, hospital_name])\n",
        "\n",
        "        # Update hospital metrics\n",
        "        if hospital_name in hospital_metrics:\n",
        "            hospital_metrics[hospital_name]['total_bode_score'] += bode_score\n",
        "            hospital_metrics[hospital_name]['total_risk'] += 1\n",
        "            hospital_metrics[hospital_name]['copd_count'] += 1\n",
        "\n",
        "hospital_output_list = []\n",
        "\n",
        "# Calculate hospital metrics\n",
        "for hospital_name, metrics in hospital_metrics.items():\n",
        "    copd_count = metrics['copd_count']\n",
        "    if copd_count > 0:\n",
        "        avg_bode_score = metrics['total_bode_score'] / copd_count\n",
        "        avg_bode_risk = metrics['total_risk'] / copd_count\n",
        "    else:\n",
        "        avg_bode_score = 0\n",
        "        avg_bode_risk = 0\n",
        "    pct_of_copd_cases = (copd_count / metrics['beds']) * 100 if metrics['beds'] > 0 else 0\n",
        "    hospital_output_list.append([hospital_name, copd_count, pct_of_copd_cases, avg_bode_score, avg_bode_risk])\n",
        "#Write Patient_output.csv\n",
        "with open(patient_output_file, 'w', newline='') as csvfile:\n",
        "    writer = csv.writer(csvfile)\n",
        "    writer.writerows(patient_results)\n",
        "#Write Hospital_output.csv\n",
        "with open(hospital_output_file, 'w', newline='') as csvfile:\n",
        "    writer = csv.writer(csvfile)\n",
        "    writer.writerows(hospital_output_list)"
      ]
    },
    {
      "cell_type": "code",
      "source": [
        "if __name__ == \"__main__\":\n",
        "    import doctest\n",
        "    doctest.testmod()"
      ],
      "metadata": {
        "id": "UpiEeDG7O7RZ"
      },
      "execution_count": 15,
      "outputs": []
    }
  ],
  "metadata": {
    "language_info": {
      "name": "python"
    },
    "colab": {
      "provenance": [],
      "include_colab_link": true
    },
    "kernelspec": {
      "name": "python3",
      "display_name": "Python 3"
    }
  },
  "nbformat": 4,
  "nbformat_minor": 0
}