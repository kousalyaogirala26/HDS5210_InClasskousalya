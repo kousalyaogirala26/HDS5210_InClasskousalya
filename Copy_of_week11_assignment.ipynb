{
  "cells": [
    {
      "cell_type": "markdown",
      "metadata": {
        "id": "view-in-github",
        "colab_type": "text"
      },
      "source": [
        "<a href=\"https://colab.research.google.com/github/kousalyaogirala26/HDS5210_InClasskousalya/blob/master/Copy_of_week11_assignment.ipynb\" target=\"_parent\"><img src=\"https://colab.research.google.com/assets/colab-badge.svg\" alt=\"Open In Colab\"/></a>"
      ]
    },
    {
      "cell_type": "markdown",
      "metadata": {
        "id": "c1I1mbrpQdNY"
      },
      "source": [
        "# Week 11 Assignment\n",
        "\n",
        "\n",
        "Please do the programming exercise and verify that your code works using the tests, then think about your final project and fill out the questions in the second part.\n",
        "\n",
        "---\n",
        "---"
      ]
    },
    {
      "cell_type": "markdown",
      "metadata": {
        "id": "rjBzfL6OQdNa"
      },
      "source": [
        "### 47.1: Filtering and summarizing data\n",
        "\n",
        "For this work, you'll find a data file in `/data/complications_all.csv`.\n",
        "\n",
        "Read in the data file and create a variable called `mo_hospitals` that contains a data frame from the `complications_all.csv` file, filtered down to only contain those hospitals from the state of Missouri (MO).\n",
        "\n",
        "Then aggregate that data by hospital into a variable named `mo_summary`.  There are some key fields that we want to summarize:\n",
        "* We want to know the earliest date that each hospital was participating in any program\n",
        "* We want to know the latest date that each hospital stopped participating in any program\n",
        "* We want to know the total number of patients in the denominators of these programs\n",
        "\n",
        "Some things to note:\n",
        "* You will need to convert the `Start Date` and `End Date` to actual datetime fields\n",
        "* You will need to clean up and convert the `Denominator` field to just be numeric - the rule that you should use it to simply remove any records where the `Denominator` is `'Not Available'`\n",
        "\n",
        "\n",
        "The final result of this step should be a new data frame called `mo_summary` that contains one row for each hospital and contains the min start date, max end date, and total denominator.  Use the names `start_date`, `end_date`, and `number` for those columns in `mo_summary`.\n",
        "\n",
        "\n",
        "You do not need to create your code in the form of a function, just make sure your variable names match what I've described above so the tests work."
      ]
    },
    {
      "cell_type": "code",
      "execution_count": 4,
      "metadata": {
        "id": "oPfyobOyQdNa"
      },
      "outputs": [],
      "source": [
        "import pandas as pd\n",
        "# This is just to show you the name to use for the variable you need to create for this step to pass.\n",
        "all_hospitals = pd.read_csv('https://hds5210-data.s3.amazonaws.com/complications_all.csv')\n"
      ]
    },
    {
      "cell_type": "code",
      "execution_count": 5,
      "metadata": {
        "id": "L8aSNvzGQdNb",
        "outputId": "307839dd-aa83-4de0-9475-de06a3f282a2",
        "colab": {
          "base_uri": "https://localhost:8080/"
        }
      },
      "outputs": [
        {
          "output_type": "stream",
          "name": "stdout",
          "text": [
            "                                    start_date   end_date  number\n",
            "Facility Name                                                    \n",
            "BARNES JEWISH HOSPITAL              2015-04-01 2018-06-30  131313\n",
            "BARNES-JEWISH ST PETERS HOSPITAL    2015-04-01 2018-06-30   15668\n",
            "BARNES-JEWISH WEST COUNTY HOSPITAL  2015-04-01 2018-06-30    9622\n",
            "BATES COUNTY MEMORIAL HOSPITAL      2015-07-01 2018-06-30    3117\n",
            "BELTON REGIONAL MEDICAL CENTER      2015-04-01 2018-06-30    9270\n",
            "...                                        ...        ...     ...\n",
            "TRUMAN MEDICAL CENTER LAKEWOOD      2015-04-01 2018-06-30    4297\n",
            "UNIVERSITY OF MISSOURI HEALTH CARE  2015-04-01 2018-06-30   56493\n",
            "WASHINGTON COUNTY MEMORIAL HOSPITAL 2015-07-01 2018-06-30     220\n",
            "WESTERN MISSOURI MEDICAL CENTER     2015-04-01 2018-06-30    7254\n",
            "WRIGHT MEMORIAL HOSPITAL            2015-07-01 2018-06-30     198\n",
            "\n",
            "[108 rows x 3 columns]\n"
          ]
        },
        {
          "output_type": "stream",
          "name": "stderr",
          "text": [
            "<ipython-input-5-c35b4144a5dc>:12: SettingWithCopyWarning: \n",
            "A value is trying to be set on a copy of a slice from a DataFrame.\n",
            "Try using .loc[row_indexer,col_indexer] = value instead\n",
            "\n",
            "See the caveats in the documentation: https://pandas.pydata.org/pandas-docs/stable/user_guide/indexing.html#returning-a-view-versus-a-copy\n",
            "  mo_hospitals['Start Date'] = pd.to_datetime(mo_hospitals['Start Date'], errors='coerce')\n",
            "<ipython-input-5-c35b4144a5dc>:13: SettingWithCopyWarning: \n",
            "A value is trying to be set on a copy of a slice from a DataFrame.\n",
            "Try using .loc[row_indexer,col_indexer] = value instead\n",
            "\n",
            "See the caveats in the documentation: https://pandas.pydata.org/pandas-docs/stable/user_guide/indexing.html#returning-a-view-versus-a-copy\n",
            "  mo_hospitals['End Date'] = pd.to_datetime(mo_hospitals['End Date'], errors='coerce')\n"
          ]
        }
      ],
      "source": [
        "# Do you work here and in as many cells as you need to create a variable called `mo_summary` that matches the requirements\n",
        "import pandas as pd\n",
        "\n",
        "# Load the data\n",
        "file_path = '/content/complications_all.csv'\n",
        "data = pd.read_csv(file_path)\n",
        "\n",
        "# Filter to only contain hospitals from Missouri (MO)\n",
        "mo_hospitals = data[data['State'] == 'MO']\n",
        "\n",
        "# Convert 'Start Date' and 'End Date' to datetime fields\n",
        "mo_hospitals['Start Date'] = pd.to_datetime(mo_hospitals['Start Date'], errors='coerce')\n",
        "mo_hospitals['End Date'] = pd.to_datetime(mo_hospitals['End Date'], errors='coerce')\n",
        "\n",
        "# Remove records where 'Denominator' is 'Not Available' and convert it to numeric\n",
        "mo_hospitals = mo_hospitals[mo_hospitals['Denominator'] != 'Not Available']\n",
        "mo_hospitals['Denominator'] = pd.to_numeric(mo_hospitals['Denominator'], errors='coerce')\n",
        "\n",
        "# Aggregate the data to ensure the shape (108, 3) and set 'Facility Name' as the index\n",
        "mo_summary = mo_hospitals.groupby('Facility Name').agg(\n",
        "    start_date=('Start Date', 'min'),\n",
        "    end_date=('End Date', 'max'),\n",
        "    number=('Denominator', 'sum')\n",
        ").reset_index().set_index('Facility Name')[['start_date', 'end_date', 'number']]\n",
        "\n",
        "# Display the result\n",
        "print(mo_summary)"
      ]
    },
    {
      "cell_type": "code",
      "execution_count": 6,
      "metadata": {
        "id": "V-aug9UOQdNc"
      },
      "outputs": [],
      "source": [
        "assert(mo_summary['number'].sum() == 1766908)\n",
        "assert(mo_summary['start_date'].min() == pd.Timestamp(2015,4,1))\n",
        "assert(mo_summary['end_date'].max() == pd.Timestamp(2018,6,30))\n",
        "assert(mo_summary.shape == (108,3))\n",
        "assert(mo_summary.loc['BARNES JEWISH HOSPITAL'].number == 131313)\n",
        "assert(mo_summary.loc['BOONE HOSPITAL CENTER'].number == 63099)"
      ]
    },
    {
      "cell_type": "markdown",
      "metadata": {
        "id": "ddJRgjzJQdNc"
      },
      "source": [
        "---\n",
        "\n",
        "### 47.2 Planning your final project\n",
        "\n",
        "You should be thinking about the things we've been learning and how you can apply them to your final project.  Use the rubric to help guid your thinking and then answer the questions below.  This is meant as a guide to help you think through what you will do."
      ]
    },
    {
      "cell_type": "markdown",
      "metadata": {
        "id": "wMTlwf9-QdNc"
      },
      "source": [
        "#### A) Data Access\n",
        "\n",
        "Your project should include data from at least three distinct types of sources.  For example: AWS S3, Relational Databases, Internet, Web Services, local files.  List what data sources you're planning to use."
      ]
    },
    {
      "cell_type": "markdown",
      "metadata": {
        "id": "bCNiNUnKQdNc"
      },
      "source": [
        "**Double-click to enter your answer**\n",
        "\n",
        "Put your answer here\n",
        "\n",
        "For my project, I plan to use data from the following three distinct types of sources:\n",
        "\n",
        "AWS S3:\n",
        "\n",
        " This is used to store and access the large datasets and  (especially those that need cloud storage and cloud processing).\n",
        "\n",
        "Relational Databases\n",
        "\n",
        "(Example: PostgreSQL or MySQL): For storing structured, transactional data in a relational database it is ideal for managing core records and SQL queries.\n",
        "\n",
        "Web Services (APIs):\n",
        "\n",
        "Real time data feed sources from external sources are APIs which will source data of external sources like financial or healthcare data to help other data sources to be updated with latest information.\n"
      ]
    },
    {
      "cell_type": "markdown",
      "metadata": {
        "id": "A9sNdNVyQdNc"
      },
      "source": [
        "#### B. Data Formats\n",
        "\n",
        "Your project should include data that comes in different file formats.  For example: HL7, EDI, HTML, CSV, Excel, JSON, XML.  List what data formats you're planning to use."
      ]
    },
    {
      "cell_type": "markdown",
      "metadata": {
        "id": "28ZaDwwoQdNc"
      },
      "source": [
        "**Double-click to enter your answer**\n",
        "\n",
        "Put your answer here\n",
        "\n",
        "For my project , I plan to utilize the following data formats such as:\n",
        "\n",
        "XML:\n",
        "\n",
        "Great for feeding hierarchical data structures coming from web services or a legacy system.\n",
        "\n",
        "HTML:\n",
        "\n",
        " It can be used to extract data off web pages e.g. Public reports or open datasets.\n",
        "\n",
        "HL7:\n",
        "\n",
        " A healthcare specific format to be able to interact with healthcare much standardized medical data to enable interoperability in healthcare systems.\n",
        "\n",
        " These above formats would support robust and real-time handling of data that improves flexibility of projec\n"
      ]
    },
    {
      "cell_type": "markdown",
      "metadata": {
        "id": "ma9oIDORQdNc"
      },
      "source": [
        "#### C. Objective\n",
        "\n",
        "What purpose would your project serve in a real work setting?  Take a couple of paragraphs to write down why this is an interesting product."
      ]
    },
    {
      "cell_type": "markdown",
      "metadata": {
        "id": "Gf8nNdTOQdNd"
      },
      "source": [
        "**Double-click to enter your answer**\n",
        "\n",
        "Put your answer here\n",
        "\n",
        "In a real work setting, this project would act as a robust data integration and analytics platform allowing organizations to access and analyze data from various sources in real-time. By supporting formats like XML, HTML, and HL7.\n",
        "\n",
        "This final project has unique ability to bridge multiple data formats and making it an adaptable solution across various industries. This project offers an up-to-date view of critical information that improves responsiveness to change in conditions\n"
      ]
    },
    {
      "cell_type": "markdown",
      "metadata": {
        "id": "az9OTp46QdNd"
      },
      "source": [
        "\n",
        "\n",
        "---\n",
        "\n",
        "\n",
        "\n",
        "## Submit your work via GitHub as normal\n"
      ]
    }
  ],
  "metadata": {
    "kernelspec": {
      "display_name": "Python 3",
      "language": "python",
      "name": "python3"
    },
    "language_info": {
      "codemirror_mode": {
        "name": "ipython",
        "version": 3
      },
      "file_extension": ".py",
      "mimetype": "text/x-python",
      "name": "python",
      "nbconvert_exporter": "python",
      "pygments_lexer": "ipython3",
      "version": "3.9.16"
    },
    "colab": {
      "provenance": [],
      "include_colab_link": true
    }
  },
  "nbformat": 4,
  "nbformat_minor": 0
}