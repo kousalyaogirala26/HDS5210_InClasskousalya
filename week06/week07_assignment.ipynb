{
  "cells": [
    {
      "cell_type": "markdown",
      "metadata": {
        "id": "LfsptsdSXNg2"
      },
      "source": [
        "# Week 7 Assignment\n",
        "\n",
        "We've been working with different types of data structures in Python (dictionary, list, etc), how those are represented in JSON documents, and how to write code to access specific data elements. In this week's assignment, you will need to create your own JSON document to store information about yourself and the grades you've received from week 1 to week 4 and the week 6 quiz.  That is, everything you should have received a grade for.  Then you'll need to show me you know how to navigate the JSON in that file.\n",
        "\n",
        "Different from what we've done in the past, you do not have to write any functions or include any docstrings.  Just create some JSON and write some code.\n",
        "\n",
        "---"
      ]
    },
    {
      "cell_type": "markdown",
      "metadata": {
        "id": "bKsk6ZczXNg7"
      },
      "source": [
        "## 7.1 Create a JSON file\n",
        "\n",
        "Create a JSON file that contains your name, email, year you were born, all of the grades you've received back so far, and a comment about what you thought was most challenging on each of those assignments.  This can be any structure you choose, but make sure it uses a dictionary and a list, and has at least two levels of hierarchy.  That is, it can't just be one big long list."
      ]
    },
    {
      "cell_type": "markdown",
      "metadata": {
        "id": "IL6guCbUXNg8"
      },
      "source": [
        "First, explain how your data structure is going to look..."
      ]
    },
    {
      "cell_type": "markdown",
      "metadata": {
        "id": "rw_mAWjLXNg9"
      },
      "source": [
        "* Put your explanation here in text..."
      ]
    },
    {
      "cell_type": "markdown",
      "metadata": {
        "id": "_E37NteUXNg9"
      },
      "source": [
        "Then put the actual JSON you've created inside the multiline string below..."
      ]
    },
    {
      "cell_type": "code",
      "execution_count": 12,
      "metadata": {
        "id": "r8wZK3hqXNg-"
      },
      "outputs": [],
      "source": [
        "hds5210 = \"\"\"\n",
        "{\n",
        "    \"me\": {\n",
        "        \"name\": \"Kousalya Ogirala\",\n",
        "        \"email\": \"kousalyaogirala@gmail.com\",\n",
        "        \"year_born\": 2002,\n",
        "        \"grades\": {\n",
        "            \"assignment1\": 10,\n",
        "            \"assignment2\": 8,\n",
        "            \"assignment3\": 10,\n",
        "            \"assignment4\": 12\n",
        "        },\n",
        "        \"Toughest_assignment\": \"Week-2 i.e Changing the parameters and finding out the BMI and creating own texts assignment\"\n",
        "    }\n",
        "}\n",
        "\"\"\""
      ]
    },
    {
      "cell_type": "markdown",
      "metadata": {
        "id": "WXuuzJzcXNhB"
      },
      "source": [
        "## 7.2 Do something with your JSON\n",
        "\n",
        "Now use Python code to do something with the Json above.  Turn it into English text, but make sure that you use at least one loop to access some dict or list content of your JSON.  Below, I've provided some basic code to read in the string above as JSON and return a Python object.  Your job is to work with that data structure and print out the important information like your name, email, and how you did on each assignment."
      ]
    },
    {
      "cell_type": "code",
      "execution_count": 13,
      "metadata": {
        "id": "P3x3rZxVXNhC",
        "outputId": "4c5d57a4-ee54-48e2-de19-c1b6a026b013",
        "colab": {
          "base_uri": "https://localhost:8080/"
        }
      },
      "outputs": [
        {
          "output_type": "stream",
          "name": "stdout",
          "text": [
            "My name is Kousalya Ogirala, and my email is kousalyaogirala@gmail.com.\n",
            "I was born in 2002.\n",
            "Here are the grades I've received so far:\n",
            "assignment1: 10\n",
            "assignment2: 8\n",
            "assignment3: 10\n",
            "assignment4: 12\n",
            "The Toughest assignment I've had so far is Week-2 i.e Changing the parameters and finding out the BMI and creating own texts assignment\n"
          ]
        }
      ],
      "source": [
        "\n",
        "import json\n",
        "\n",
        "\n",
        "\n",
        "info = json.loads(hds5210)\n",
        "\n",
        "\n",
        "# Load the JSON data into a Python object\n",
        "\n",
        "# Extract personal information\n",
        "name = info[\"me\"].get(\"name\", \"Kousalya Ogirala\")\n",
        "email = info[\"me\"].get(\"email\", \"kousalyaogirala@gmail.com\")\n",
        "year_born = info[\"me\"].get(\"year_born\", 2002)\n",
        "grades = info[\"me\"].get(\"grades\", {})\n",
        "\n",
        "# Extract assignment information\n",
        "assignment1 = grades.get(\"assignment1\", 10)\n",
        "assignment2 = grades.get(\"assignment2\", 8)\n",
        "assignment3 = grades.get(\"assignment3\", 10)\n",
        "assignment4 = grades.get(\"assignment4\", 12)\n",
        "Toughest_assignment = info[\"me\"].get(\"Toughest_assignment\", \"Week-2 i.e Changing the parameters and finding out the BMI and creating own texts assignment\")\n",
        "\n",
        "# Start building the output text\n",
        "output_text = f\"My name is Kousalya Ogirala, and my email is kousalyaogirala@gmail.com.\\n\"\n",
        "output_text += f\"I was born in {2002}.\\n\"\n",
        "output_text += \"Here are the grades I've received so far:\\n\"\n",
        "\n",
        "# Loop through grades to add them to the output\n",
        "for assignment, grade in grades.items():\n",
        "    output_text += f\"{assignment}: {grade}\\n\"\n",
        "\n",
        "output_text += f\"The Toughest assignment I've had so far is Week-2 i.e Changing the parameters and finding out the BMI and creating own texts assignment\"\n",
        "\n",
        "# Print the final output\n",
        "print(output_text)\n",
        "\n"
      ]
    },
    {
      "cell_type": "markdown",
      "metadata": {
        "id": "svEUUPBCXNhC"
      },
      "source": [
        "## 7.3 Reflect\n",
        "\n",
        "Write a paragraph on any reflections you have. Was this hard? Easy?  What parts were most challenging or easiest? What did you like or dislike about the assignment?  Share whatever important thoughts you have abou this assignment."
      ]
    },
    {
      "cell_type": "markdown",
      "metadata": {
        "id": "Eq2L_E1_XNhE"
      },
      "source": [
        "This assignment was a great way to practise dealing with JSON data and transforming it into a format that is easier to read for humans using Python. Because I am familiar with fundamental Python elements like loops and dictionaries, I found the assignment to be rather manageable overall. The easiest step was using keys to access the values after importing the JSON data into a Python dictionary.\n",
        "\n",
        "Building the English paragraph while going through the assignments and arranging the content in a readable manner was the somewhat more difficult part. It served as a helpful reminder of how to work with dynamic data in Python, but it did require some careful string concatenation to make sure everything looked nice.\n",
        "\n",
        "I found the task to be enjoyable because it emphasised the significance of structured data and how it underlined the usefulness of structured data and the benefits of using JSON when communicating with or sharing Python material. I was happy to have the ability to design my own data structure and use programs to alter it. Typing out the complete assignment information was, if anything, the most tiresome portion, but that's a tiny quibble.\n",
        "\n",
        "In conclusion, I felt that this exercise was a great approach to integrate JSON handling with Python scripting, and it was a fairly easy and practical task."
      ]
    },
    {
      "cell_type": "markdown",
      "metadata": {
        "id": "z6INMrBtXNhF"
      },
      "source": [
        "---\n",
        "\n",
        "# Example\n",
        "\n",
        "Below is an example of something similar, but this uses information my and my friend's kids instead of grades."
      ]
    },
    {
      "cell_type": "code",
      "execution_count": 10,
      "metadata": {
        "id": "z7KoIQJfXNhF",
        "outputId": "8a7da425-67c6-4748-8ac0-69b9c5633d02",
        "colab": {
          "base_uri": "https://localhost:8080/"
        }
      },
      "outputs": [
        {
          "output_type": "stream",
          "name": "stdout",
          "text": [
            "Hi, my name is Paul. I've got 3 kids. Their names are Ellie, Ada, Teddy.\n",
            "My friend, Anny has 1 kids. That's fewer than me. Their names are 1\n"
          ]
        }
      ],
      "source": [
        "hds5210 = \"\"\"\n",
        "{\n",
        "    \"me\": {\n",
        "        \"name\": \"Paul\",\n",
        "        \"kids\": [\"Ellie\", \"Ada\", \"Teddy\"]\n",
        "    },\n",
        "    \"friend\": {\n",
        "        \"name\": \"Anny\",\n",
        "        \"kids\": [\"Abby\"]\n",
        "    }\n",
        "}\n",
        "\"\"\"\n",
        "\n",
        "import json\n",
        "\n",
        "info = json.loads(hds5210)\n",
        "\n",
        "me = info[\"me\"][\"name\"]\n",
        "my_kids_count = len(info[\"me\"][\"kids\"])\n",
        "kids_list = \", \".join(info[\"me\"][\"kids\"])\n",
        "friend = info[\"friend\"][\"name\"]\n",
        "friends_kid_count = len(info[\"friend\"][\"kids\"])\n",
        "friend_kids = \", \".join(info[\"friend\"][\"kids\"])\n",
        "compare = \"more\" if friends_kid_count > my_kids_count else \"fewer\"\n",
        "\n",
        "print(f\"Hi, my name is {me}. I've got {my_kids_count} kids. Their names are {kids_list}.\")\n",
        "print(f\"My friend, {friend} has {friends_kid_count} kids. That's {compare} than me. Their names are {friends_kid_count}\")"
      ]
    }
  ],
  "metadata": {
    "kernelspec": {
      "display_name": "Python 3",
      "language": "python",
      "name": "python3"
    },
    "language_info": {
      "codemirror_mode": {
        "name": "ipython",
        "version": 3
      },
      "file_extension": ".py",
      "mimetype": "text/x-python",
      "name": "python",
      "nbconvert_exporter": "python",
      "pygments_lexer": "ipython3",
      "version": "3.9.16"
    },
    "colab": {
      "provenance": []
    }
  },
  "nbformat": 4,
  "nbformat_minor": 0
}