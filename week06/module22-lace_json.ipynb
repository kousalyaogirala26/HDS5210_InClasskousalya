{
  "cells": [
    {
      "cell_type": "markdown",
      "metadata": {
        "id": "r8PGV9Mk2PP8"
      },
      "source": [
        "https://micmrc.org/system/files/LACE_tool%204.23.13.pdf"
      ]
    },
    {
      "cell_type": "code",
      "execution_count": 1,
      "metadata": {
        "id": "ODsnd_bB2PP-"
      },
      "outputs": [],
      "source": [
        "import json\n",
        "\n",
        "def lace_los_score(los, config):\n",
        "    \"\"\"\n",
        "    Compute the LOS score using the LACE rules\n",
        "    in the rules in the config dictionary.\n",
        "    \"\"\"\n",
        "\n",
        "    score = 0\n",
        "\n",
        "    los_rule = rules.get('los_rule')\n",
        "\n",
        "    for condition in los_rule:\n",
        "        if (condition.get('min') <= los):\n",
        "            if (condition.get('max') is None):\n",
        "                score = condition.get('score')\n",
        "            elif (condition.get('max') >= los):\n",
        "                score = condition.get('score')\n",
        "\n",
        "    return score"
      ]
    },
    {
      "cell_type": "code",
      "execution_count": 2,
      "metadata": {
        "id": "2g5lIeBL2PP_"
      },
      "outputs": [],
      "source": [
        "def lace_acute_score(acute, config):\n",
        "    return 0"
      ]
    },
    {
      "cell_type": "code",
      "execution_count": 3,
      "metadata": {
        "id": "wF0sXWW02PP_"
      },
      "outputs": [],
      "source": [
        "def lace_comorbidities_score(comorbidities, config):\n",
        "    return 0"
      ]
    },
    {
      "cell_type": "code",
      "execution_count": 4,
      "metadata": {
        "id": "zUeREcrn2PQA"
      },
      "outputs": [],
      "source": [
        "def lace_emergency_score(emergency, config):\n",
        "    return 0"
      ]
    },
    {
      "cell_type": "code",
      "execution_count": 6,
      "metadata": {
        "id": "kg_Uq4HG2PQA",
        "outputId": "9155a5ef-c50e-411e-af52-13c71adf1e2a",
        "colab": {
          "base_uri": "https://localhost:8080/",
          "height": 106
        }
      },
      "outputs": [
        {
          "output_type": "error",
          "ename": "SyntaxError",
          "evalue": "invalid syntax (<ipython-input-6-fde3f8f8a485>, line 4)",
          "traceback": [
            "\u001b[0;36m  File \u001b[0;32m\"<ipython-input-6-fde3f8f8a485>\"\u001b[0;36m, line \u001b[0;32m4\u001b[0m\n\u001b[0;31m    score = lace_los_score(los, config) +\u001b[0m\n\u001b[0m                                         ^\u001b[0m\n\u001b[0;31mSyntaxError\u001b[0m\u001b[0;31m:\u001b[0m invalid syntax\n"
          ]
        }
      ],
      "source": [
        "def lace_score(los, acute, comorbidities, emergency, config_file):\n",
        "    config = json.load(open(config_file))\n",
        "\n",
        "    score = lace_los_score(los, config) +\n",
        "            lace_acute_score(acute, config) +\n",
        "            lace_comorbidities_score(comorbidities, config) +\n",
        "            lace_emergency_score(emergency, config)\n",
        "\n",
        "    return score"
      ]
    }
  ],
  "metadata": {
    "kernelspec": {
      "display_name": "Python 3",
      "language": "python",
      "name": "python3"
    },
    "language_info": {
      "codemirror_mode": {
        "name": "ipython",
        "version": 3
      },
      "file_extension": ".py",
      "mimetype": "text/x-python",
      "name": "python",
      "nbconvert_exporter": "python",
      "pygments_lexer": "ipython3",
      "version": "3.7.1"
    },
    "colab": {
      "provenance": []
    }
  },
  "nbformat": 4,
  "nbformat_minor": 0
}