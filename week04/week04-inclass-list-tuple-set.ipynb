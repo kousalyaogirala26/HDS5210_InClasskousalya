{
  "cells": [
    {
      "cell_type": "markdown",
      "metadata": {
        "id": "P4H5O2i6e5OR"
      },
      "source": [
        "Create a list of all of the integers from 1 to 100 using range"
      ]
    },
    {
      "cell_type": "code",
      "execution_count": 5,
      "metadata": {
        "id": "klu1O7tHe5OU"
      },
      "outputs": [],
      "source": [
        "list_of_ints = []\n",
        "\n",
        "### Solution goes here\n",
        "list_of_ints = list(range(1, 101))\n",
        "# End Solution\n",
        "\n",
        "# Assertions to check if the solution works\n",
        "assert (type(list_of_ints) == list)\n",
        "assert (len(list_of_ints) == 100)\n",
        "assert (list_of_ints[0] == 1)\n",
        "assert (list_of_ints[99] == 100)\n",
        "### End Solution\n",
        "\n",
        "assert (type(list_of_ints)==list)\n",
        "assert (len(list_of_ints) == 100)\n",
        "assert (list_of_ints[0] == 1)\n",
        "assert (list_of_ints[99] == 100)\n"
      ]
    }
  ],
  "metadata": {
    "kernelspec": {
      "display_name": "Python 3",
      "language": "python",
      "name": "python3"
    },
    "language_info": {
      "codemirror_mode": {
        "name": "ipython",
        "version": 3
      },
      "file_extension": ".py",
      "mimetype": "text/x-python",
      "name": "python",
      "nbconvert_exporter": "python",
      "pygments_lexer": "ipython3",
      "version": "3.10.11"
    },
    "colab": {
      "provenance": []
    }
  },
  "nbformat": 4,
  "nbformat_minor": 0
}